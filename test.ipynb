{
 "cells": [
  {
   "cell_type": "code",
   "execution_count": 1,
   "id": "dda4d985",
   "metadata": {},
   "outputs": [],
   "source": [
    "import os\n",
    "import tensorflow\n",
    "from tensorflow.keras.preprocessing.image import ImageDataGenerator\n",
    "import keras\n",
    "from keras import models, layers\n",
    "import matplotlib.pyplot as plt"
   ]
  },
  {
   "cell_type": "markdown",
   "id": "bdc8f9cd",
   "metadata": {},
   "source": [
    "Train Model"
   ]
  },
  {
   "cell_type": "code",
   "execution_count": 2,
   "id": "47913cd4",
   "metadata": {},
   "outputs": [
    {
     "name": "stdout",
     "output_type": "stream",
     "text": [
      "Found 2623 images belonging to 3 classes.\n",
      "Found 561 images belonging to 3 classes.\n",
      "Found 565 images belonging to 3 classes.\n"
     ]
    }
   ],
   "source": [
    "img_size = (224, 224)\n",
    "batch_size = 32\n",
    "\n",
    "train_datagen = ImageDataGenerator(\n",
    "    rescale = 1./255,\n",
    "    rotation_range = 15,\n",
    "    zoom_range = 0.1,\n",
    "    width_shift_range = 0.1,\n",
    "    height_shift_range = 0.1,\n",
    "    brightness_range = [0.8, 1.2],\n",
    "    horizontal_flip = True,\n",
    "    fill_mode='nearest'\n",
    ")\n",
    "\n",
    "val_test_datagen = ImageDataGenerator(\n",
    "    rescale= 1./255\n",
    ")\n",
    "\n",
    "train_generator = train_datagen.flow_from_directory(\n",
    "    'dataset/train',\n",
    "    target_size = img_size,\n",
    "    batch_size = batch_size,\n",
    "    class_mode = 'sparse'\n",
    ")\n",
    "\n",
    "val_generator = val_test_datagen.flow_from_directory(\n",
    "    'dataset/val',\n",
    "    target_size = img_size,\n",
    "    batch_size = batch_size,\n",
    "    class_mode = 'sparse'\n",
    ")\n",
    "\n",
    "test_generator = val_test_datagen.flow_from_directory(\n",
    "    'dataset/test',\n",
    "    target_size = img_size,\n",
    "    batch_size = batch_size,\n",
    "    class_mode = 'sparse',\n",
    "    shuffle = False\n",
    ")\n",
    "\n"
   ]
  },
  {
   "cell_type": "code",
   "execution_count": 3,
   "id": "7bfaa1a0",
   "metadata": {},
   "outputs": [],
   "source": [
    "model = models.Sequential([\n",
    "    layers.Input(shape=(224, 224,3)),\n",
    "    layers.Conv2D(32, (3, 3), activation='relu'),\n",
    "    layers.MaxPooling2D((2, 2)),\n",
    "    layers.Conv2D(64, (3, 3), activation='relu'),\n",
    "    layers.MaxPooling2D(2, 2),\n",
    "    layers.Conv2D(128, (3, 3), activation='relu'),\n",
    "    layers.MaxPooling2D((2, 2)),\n",
    "    layers.GlobalAveragePooling2D(),\n",
    "    layers.Dense(128, activation='relu'),\n",
    "    layers.Dropout(0.5),\n",
    "    layers.Dense(3, activation='softmax')\n",
    "])"
   ]
  },
  {
   "cell_type": "code",
   "execution_count": 4,
   "id": "46ef021b",
   "metadata": {},
   "outputs": [
    {
     "name": "stdout",
     "output_type": "stream",
     "text": [
      "Model: \"sequential\"\n",
      "_________________________________________________________________\n",
      " Layer (type)                Output Shape              Param #   \n",
      "=================================================================\n",
      " conv2d (Conv2D)             (None, 222, 222, 32)      896       \n",
      "                                                                 \n",
      " max_pooling2d (MaxPooling2D  (None, 111, 111, 32)     0         \n",
      " )                                                               \n",
      "                                                                 \n",
      " conv2d_1 (Conv2D)           (None, 109, 109, 64)      18496     \n",
      "                                                                 \n",
      " max_pooling2d_1 (MaxPooling  (None, 54, 54, 64)       0         \n",
      " 2D)                                                             \n",
      "                                                                 \n",
      " conv2d_2 (Conv2D)           (None, 52, 52, 128)       73856     \n",
      "                                                                 \n"
     ]
    },
    {
     "name": "stdout",
     "output_type": "stream",
     "text": [
      " max_pooling2d_2 (MaxPooling  (None, 26, 26, 128)      0         \n",
      " 2D)                                                             \n",
      "                                                                 \n",
      " global_average_pooling2d (G  (None, 128)              0         \n",
      " lobalAveragePooling2D)                                          \n",
      "                                                                 \n",
      " dense (Dense)               (None, 128)               16512     \n",
      "                                                                 \n",
      " dropout (Dropout)           (None, 128)               0         \n",
      "                                                                 \n",
      " dense_1 (Dense)             (None, 3)                 387       \n",
      "                                                                 \n",
      "=================================================================\n",
      "Total params: 110,147\n",
      "Trainable params: 110,147\n",
      "Non-trainable params: 0\n",
      "_________________________________________________________________\n"
     ]
    }
   ],
   "source": [
    "model.compile(\n",
    "    optimizer = 'adam',\n",
    "    loss = 'sparse_categorical_crossentropy',\n",
    "    metrics = ['accuracy']\n",
    ")\n",
    "\n",
    "model.summary()"
   ]
  },
  {
   "cell_type": "code",
   "execution_count": 5,
   "id": "ad885a78",
   "metadata": {},
   "outputs": [
    {
     "name": "stdout",
     "output_type": "stream",
     "text": [
      "Epoch 1/15\n",
      "82/82 [==============================] - 75s 910ms/step - loss: 0.8491 - accuracy: 0.5467 - val_loss: 0.8374 - val_accuracy: 0.6185\n",
      "Epoch 2/15\n",
      "82/82 [==============================] - 71s 871ms/step - loss: 0.6735 - accuracy: 0.6912 - val_loss: 0.7344 - val_accuracy: 0.6649\n",
      "Epoch 3/15\n",
      "82/82 [==============================] - 72s 877ms/step - loss: 0.6329 - accuracy: 0.7194 - val_loss: 0.6454 - val_accuracy: 0.7041\n",
      "Epoch 4/15\n",
      "82/82 [==============================] - 73s 888ms/step - loss: 0.6027 - accuracy: 0.7560 - val_loss: 0.6341 - val_accuracy: 0.7326\n",
      "Epoch 5/15\n",
      "82/82 [==============================] - 69s 837ms/step - loss: 0.5767 - accuracy: 0.7575 - val_loss: 0.7730 - val_accuracy: 0.7184\n",
      "Epoch 6/15\n",
      "82/82 [==============================] - 68s 825ms/step - loss: 0.5692 - accuracy: 0.7732 - val_loss: 0.5662 - val_accuracy: 0.7665\n",
      "Epoch 7/15\n",
      "82/82 [==============================] - 69s 838ms/step - loss: 0.5603 - accuracy: 0.7873 - val_loss: 0.6232 - val_accuracy: 0.7594\n",
      "Epoch 8/15\n",
      "82/82 [==============================] - 72s 879ms/step - loss: 0.5372 - accuracy: 0.7945 - val_loss: 0.5250 - val_accuracy: 0.7914\n",
      "Epoch 9/15\n",
      "82/82 [==============================] - 75s 918ms/step - loss: 0.5174 - accuracy: 0.8040 - val_loss: 0.5225 - val_accuracy: 0.8004\n",
      "Epoch 10/15\n",
      "82/82 [==============================] - 75s 913ms/step - loss: 0.4966 - accuracy: 0.8166 - val_loss: 0.5946 - val_accuracy: 0.7718\n",
      "Epoch 11/15\n",
      "82/82 [==============================] - 69s 839ms/step - loss: 0.5020 - accuracy: 0.8071 - val_loss: 0.5642 - val_accuracy: 0.7861\n",
      "Epoch 12/15\n",
      "82/82 [==============================] - 68s 826ms/step - loss: 0.4862 - accuracy: 0.8281 - val_loss: 0.5626 - val_accuracy: 0.7879\n",
      "Epoch 13/15\n",
      "82/82 [==============================] - 69s 837ms/step - loss: 0.4574 - accuracy: 0.8315 - val_loss: 0.5448 - val_accuracy: 0.8200\n",
      "Epoch 14/15\n",
      "82/82 [==============================] - 70s 854ms/step - loss: 0.4473 - accuracy: 0.8368 - val_loss: 0.5649 - val_accuracy: 0.7754\n",
      "Epoch 15/15\n",
      "82/82 [==============================] - 69s 837ms/step - loss: 0.4491 - accuracy: 0.8311 - val_loss: 0.4787 - val_accuracy: 0.8431\n"
     ]
    }
   ],
   "source": [
    "history = model.fit(\n",
    "    train_generator,\n",
    "    validation_data = val_generator,\n",
    "    epochs = 15\n",
    ")"
   ]
  },
  {
   "cell_type": "code",
   "execution_count": 6,
   "id": "b5bed18e",
   "metadata": {},
   "outputs": [
    {
     "name": "stdout",
     "output_type": "stream",
     "text": [
      "18/18 [==============================] - 9s 489ms/step - loss: 0.4481 - accuracy: 0.8407\n",
      "Test Loss: 0.448072612285614\n",
      "Test Accuracy: 0.8407079577445984\n"
     ]
    }
   ],
   "source": [
    "test_loss, test_accuracy = model.evaluate(test_generator)\n",
    "print(f\"Test Loss: {test_loss}\")\n",
    "print(f\"Test Accuracy: {test_accuracy}\")"
   ]
  }
 ],
 "metadata": {
  "kernelspec": {
   "display_name": "Python 3",
   "language": "python",
   "name": "python3"
  },
  "language_info": {
   "codemirror_mode": {
    "name": "ipython",
    "version": 3
   },
   "file_extension": ".py",
   "mimetype": "text/x-python",
   "name": "python",
   "nbconvert_exporter": "python",
   "pygments_lexer": "ipython3",
   "version": "3.10.8"
  }
 },
 "nbformat": 4,
 "nbformat_minor": 5
}
