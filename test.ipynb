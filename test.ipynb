{
 "cells": [
  {
   "cell_type": "code",
   "execution_count": 17,
   "id": "dda4d985",
   "metadata": {},
   "outputs": [],
   "source": [
    "import os\n",
    "import tensorflow\n",
    "from tensorflow.keras.preprocessing.image import ImageDataGenerator\n",
    "import keras\n",
    "from keras import models, layers"
   ]
  },
  {
   "cell_type": "markdown",
   "id": "bdc8f9cd",
   "metadata": {},
   "source": [
    "Train Model"
   ]
  },
  {
   "cell_type": "code",
   "execution_count": 20,
   "id": "47913cd4",
   "metadata": {},
   "outputs": [
    {
     "name": "stdout",
     "output_type": "stream",
     "text": [
      "Found 2623 images belonging to 3 classes.\n",
      "Found 561 images belonging to 3 classes.\n",
      "Found 565 images belonging to 3 classes.\n"
     ]
    }
   ],
   "source": [
    "img_size = (224, 224)\n",
    "batch_size = 32\n",
    "\n",
    "train_datagen = ImageDataGenerator(\n",
    "    rescale = 1./255,\n",
    "    rotation_range = 15,\n",
    "    zoom_range = 0.1,\n",
    "    width_shift_range = 0.1,\n",
    "    height_shift_range = 0.1,\n",
    "    brightness_range = [0.8, 1.2],\n",
    "    horizontal_flip = True,\n",
    "    fill_mode='nearest'\n",
    ")\n",
    "\n",
    "val_test_datagen = ImageDataGenerator(\n",
    "    rescale= 1./255\n",
    ")\n",
    "\n",
    "train_generator = train_datagen.flow_from_directory(\n",
    "    'dataset/train',\n",
    "    target_size = img_size,\n",
    "    batch_size = batch_size,\n",
    "    class_mode = 'sparse'\n",
    ")\n",
    "\n",
    "val_generator = val_test_datagen.flow_from_directory(\n",
    "    'dataset/val',\n",
    "    target_size = img_size,\n",
    "    batch_size = batch_size,\n",
    "    class_mode = 'sparse'\n",
    ")\n",
    "\n",
    "test_generator = val_test_datagen.flow_from_directory(\n",
    "    'dataset/test',\n",
    "    target_size = img_size,\n",
    "    batch_size = batch_size,\n",
    "    class_mode = 'sparse',\n",
    "    shuffle = False\n",
    ")\n",
    "\n"
   ]
  },
  {
   "cell_type": "code",
   "execution_count": 28,
   "id": "7bfaa1a0",
   "metadata": {},
   "outputs": [],
   "source": [
    "model = models.Sequential([\n",
    "    layers.Input(shape=(224, 224,3)),\n",
    "    layers.Conv2D(32, (3, 3), activation='relu'),\n",
    "    layers.MaxPooling2D((2, 2)),\n",
    "    layers.Conv2D(64, (3, 3), activation='relu'),\n",
    "    layers.MaxPooling2D(2, 2),\n",
    "    layers.Conv2D(128, (3, 3), activation='relu'),\n",
    "    layers.MaxPooling2D((2, 2)),\n",
    "    layers.GlobalAveragePooling2D(),\n",
    "    layers.Dense(128, activation='relu'),\n",
    "    layers.Dropout(0.5),\n",
    "    layers.Dense(3, activation='softmax')\n",
    "])"
   ]
  },
  {
   "cell_type": "code",
   "execution_count": 29,
   "id": "46ef021b",
   "metadata": {},
   "outputs": [
    {
     "name": "stdout",
     "output_type": "stream",
     "text": [
      "Model: \"sequential_3\"\n",
      "_________________________________________________________________\n",
      " Layer (type)                Output Shape              Param #   \n",
      "=================================================================\n",
      " conv2d_6 (Conv2D)           (None, 222, 222, 32)      896       \n",
      "                                                                 \n",
      " max_pooling2d_6 (MaxPooling  (None, 111, 111, 32)     0         \n",
      " 2D)                                                             \n",
      "                                                                 \n",
      " conv2d_7 (Conv2D)           (None, 109, 109, 64)      18496     \n",
      "                                                                 \n",
      " max_pooling2d_7 (MaxPooling  (None, 54, 54, 64)       0         \n",
      " 2D)                                                             \n",
      "                                                                 \n",
      " conv2d_8 (Conv2D)           (None, 52, 52, 128)       73856     \n",
      "                                                                 \n",
      " max_pooling2d_8 (MaxPooling  (None, 26, 26, 128)      0         \n",
      " 2D)                                                             \n",
      "                                                                 \n",
      " global_average_pooling2d (G  (None, 128)              0         \n",
      " lobalAveragePooling2D)                                          \n",
      "                                                                 \n",
      " dense_4 (Dense)             (None, 128)               16512     \n",
      "                                                                 \n",
      " dropout_2 (Dropout)         (None, 128)               0         \n",
      "                                                                 \n",
      " dense_5 (Dense)             (None, 3)                 387       \n",
      "                                                                 \n",
      "=================================================================\n",
      "Total params: 110,147\n",
      "Trainable params: 110,147\n",
      "Non-trainable params: 0\n",
      "_________________________________________________________________\n"
     ]
    }
   ],
   "source": [
    "model.compile(\n",
    "    optimizer = 'adam',\n",
    "    loss = 'sparse_categorical_crossentropy',\n",
    "    metrics = ['accuracy']\n",
    ")\n",
    "\n",
    "model.summary()"
   ]
  },
  {
   "cell_type": "code",
   "execution_count": 30,
   "id": "ad885a78",
   "metadata": {},
   "outputs": [
    {
     "name": "stdout",
     "output_type": "stream",
     "text": [
      "Epoch 1/15\n",
      "82/82 [==============================] - 92s 1s/step - loss: 0.8504 - accuracy: 0.5749 - val_loss: 0.7657 - val_accuracy: 0.6756\n",
      "Epoch 2/15\n",
      "82/82 [==============================] - 72s 882ms/step - loss: 0.6799 - accuracy: 0.6897 - val_loss: 0.8290 - val_accuracy: 0.6738\n",
      "Epoch 3/15\n",
      "82/82 [==============================] - 73s 891ms/step - loss: 0.6508 - accuracy: 0.7068 - val_loss: 0.6672 - val_accuracy: 0.7291\n",
      "Epoch 4/15\n",
      "82/82 [==============================] - 73s 888ms/step - loss: 0.6374 - accuracy: 0.7286 - val_loss: 0.7561 - val_accuracy: 0.7201\n",
      "Epoch 5/15\n",
      "82/82 [==============================] - 72s 876ms/step - loss: 0.6039 - accuracy: 0.7549 - val_loss: 0.6295 - val_accuracy: 0.7469\n",
      "Epoch 6/15\n",
      "82/82 [==============================] - 73s 893ms/step - loss: 0.5986 - accuracy: 0.7476 - val_loss: 0.6388 - val_accuracy: 0.7576\n",
      "Epoch 7/15\n",
      "82/82 [==============================] - 72s 873ms/step - loss: 0.5469 - accuracy: 0.7842 - val_loss: 0.6102 - val_accuracy: 0.7736\n",
      "Epoch 8/15\n",
      "82/82 [==============================] - 73s 890ms/step - loss: 0.5229 - accuracy: 0.8002 - val_loss: 0.5487 - val_accuracy: 0.7879\n",
      "Epoch 9/15\n",
      "82/82 [==============================] - 71s 867ms/step - loss: 0.5113 - accuracy: 0.8021 - val_loss: 0.6207 - val_accuracy: 0.7754\n",
      "Epoch 10/15\n",
      "82/82 [==============================] - 74s 900ms/step - loss: 0.5108 - accuracy: 0.8136 - val_loss: 0.4880 - val_accuracy: 0.8128\n",
      "Epoch 11/15\n",
      "82/82 [==============================] - 75s 908ms/step - loss: 0.4860 - accuracy: 0.8178 - val_loss: 0.5197 - val_accuracy: 0.8235\n",
      "Epoch 12/15\n",
      "82/82 [==============================] - 73s 895ms/step - loss: 0.4776 - accuracy: 0.8338 - val_loss: 0.5915 - val_accuracy: 0.7754\n",
      "Epoch 13/15\n",
      "82/82 [==============================] - 73s 889ms/step - loss: 0.4834 - accuracy: 0.8292 - val_loss: 0.5789 - val_accuracy: 0.7683\n",
      "Epoch 14/15\n",
      "82/82 [==============================] - 75s 916ms/step - loss: 0.4482 - accuracy: 0.8406 - val_loss: 0.4805 - val_accuracy: 0.8360\n",
      "Epoch 15/15\n",
      "82/82 [==============================] - 77s 940ms/step - loss: 0.4569 - accuracy: 0.8342 - val_loss: 0.4644 - val_accuracy: 0.8217\n"
     ]
    }
   ],
   "source": [
    "history = model.fit(\n",
    "    train_generator,\n",
    "    validation_data = val_generator,\n",
    "    epochs = 15\n",
    ")"
   ]
  }
 ],
 "metadata": {
  "kernelspec": {
   "display_name": "Python 3",
   "language": "python",
   "name": "python3"
  },
  "language_info": {
   "codemirror_mode": {
    "name": "ipython",
    "version": 3
   },
   "file_extension": ".py",
   "mimetype": "text/x-python",
   "name": "python",
   "nbconvert_exporter": "python",
   "pygments_lexer": "ipython3",
   "version": "3.10.8"
  }
 },
 "nbformat": 4,
 "nbformat_minor": 5
}
