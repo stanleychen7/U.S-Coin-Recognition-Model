{
 "cells": [
  {
   "cell_type": "code",
   "execution_count": 2,
   "id": "dda4d985",
   "metadata": {},
   "outputs": [],
   "source": [
    "import os\n",
    "import tensorflow\n",
    "from tensorflow.keras.preprocessing.image import ImageDataGenerator\n",
    "import keras\n",
    "from keras import models, layers\n",
    "import matplotlib.pyplot as plt"
   ]
  },
  {
   "cell_type": "markdown",
   "id": "bdc8f9cd",
   "metadata": {},
   "source": [
    "Train Model"
   ]
  },
  {
   "cell_type": "code",
   "execution_count": 7,
   "id": "47913cd4",
   "metadata": {},
   "outputs": [
    {
     "name": "stdout",
     "output_type": "stream",
     "text": [
      "Found 2623 images belonging to 3 classes.\n",
      "Found 561 images belonging to 3 classes.\n",
      "Found 565 images belonging to 3 classes.\n"
     ]
    }
   ],
   "source": [
    "img_size = (224, 224)\n",
    "batch_size = 32\n",
    "\n",
    "train_datagen = ImageDataGenerator(\n",
    "    rescale = 1./255,\n",
    "    rotation_range = 15,\n",
    "    zoom_range = 0.1,\n",
    "    width_shift_range = 0.1,\n",
    "    height_shift_range = 0.1,\n",
    "    brightness_range = [0.8, 1.2],\n",
    "    horizontal_flip = True,\n",
    "    fill_mode='nearest'\n",
    ")\n",
    "\n",
    "val_test_datagen = ImageDataGenerator(\n",
    "    rescale= 1./255\n",
    ")\n",
    "\n",
    "train_generator = train_datagen.flow_from_directory(\n",
    "    '../dataset/train',\n",
    "    target_size=img_size,\n",
    "    batch_size=batch_size,\n",
    "    class_mode='sparse'\n",
    ")\n",
    "\n",
    "val_generator = val_test_datagen.flow_from_directory(\n",
    "    '../dataset/val',\n",
    "    target_size = img_size,\n",
    "    batch_size = batch_size,\n",
    "    class_mode = 'sparse'\n",
    ")\n",
    "\n",
    "test_generator = val_test_datagen.flow_from_directory(\n",
    "    '../dataset/test',\n",
    "    target_size = img_size,\n",
    "    batch_size = batch_size,\n",
    "    class_mode = 'sparse',\n",
    "    shuffle = False\n",
    ")\n",
    "\n"
   ]
  },
  {
   "cell_type": "code",
   "execution_count": 8,
   "id": "7bfaa1a0",
   "metadata": {},
   "outputs": [],
   "source": [
    "model = models.Sequential([\n",
    "    layers.Input(shape=(224, 224,3)),\n",
    "    layers.Conv2D(32, (3, 3), activation='relu'),\n",
    "    layers.MaxPooling2D((2, 2)),\n",
    "    layers.Conv2D(64, (3, 3), activation='relu'),\n",
    "    layers.MaxPooling2D(2, 2),\n",
    "    layers.Conv2D(128, (3, 3), activation='relu'),\n",
    "    layers.MaxPooling2D((2, 2)),\n",
    "    layers.GlobalAveragePooling2D(),\n",
    "    layers.Dense(128, activation='relu'),\n",
    "    layers.Dropout(0.5),\n",
    "    layers.Dense(3, activation='softmax')\n",
    "])"
   ]
  },
  {
   "cell_type": "code",
   "execution_count": 9,
   "id": "46ef021b",
   "metadata": {},
   "outputs": [
    {
     "name": "stdout",
     "output_type": "stream",
     "text": [
      "Model: \"sequential\"\n",
      "_________________________________________________________________\n",
      " Layer (type)                Output Shape              Param #   \n",
      "=================================================================\n",
      " conv2d (Conv2D)             (None, 222, 222, 32)      896       \n",
      "                                                                 \n",
      " max_pooling2d (MaxPooling2D  (None, 111, 111, 32)     0         \n",
      " )                                                               \n",
      "                                                                 \n",
      " conv2d_1 (Conv2D)           (None, 109, 109, 64)      18496     \n",
      "                                                                 \n",
      " max_pooling2d_1 (MaxPooling  (None, 54, 54, 64)       0         \n",
      " 2D)                                                             \n",
      "                                                                 \n",
      " conv2d_2 (Conv2D)           (None, 52, 52, 128)       73856     \n",
      "                                                                 \n",
      " max_pooling2d_2 (MaxPooling  (None, 26, 26, 128)      0         \n",
      " 2D)                                                             \n",
      "                                                                 \n",
      " global_average_pooling2d (G  (None, 128)              0         \n",
      " lobalAveragePooling2D)                                          \n",
      "                                                                 \n",
      " dense (Dense)               (None, 128)               16512     \n",
      "                                                                 \n",
      " dropout (Dropout)           (None, 128)               0         \n",
      "                                                                 \n",
      " dense_1 (Dense)             (None, 3)                 387       \n",
      "                                                                 \n",
      "=================================================================\n",
      "Total params: 110,147\n",
      "Trainable params: 110,147\n",
      "Non-trainable params: 0\n",
      "_________________________________________________________________\n"
     ]
    }
   ],
   "source": [
    "model.compile(\n",
    "    optimizer = 'adam',\n",
    "    loss = 'sparse_categorical_crossentropy',\n",
    "    metrics = ['accuracy']\n",
    ")\n",
    "\n",
    "model.summary()"
   ]
  },
  {
   "cell_type": "code",
   "execution_count": 11,
   "id": "ad885a78",
   "metadata": {},
   "outputs": [
    {
     "name": "stdout",
     "output_type": "stream",
     "text": [
      "Epoch 1/15\n",
      "82/82 [==============================] - 76s 915ms/step - loss: 0.8075 - accuracy: 0.5909 - val_loss: 0.7991 - val_accuracy: 0.6150\n",
      "Epoch 2/15\n",
      "82/82 [==============================] - 68s 825ms/step - loss: 0.6923 - accuracy: 0.6740 - val_loss: 0.7275 - val_accuracy: 0.6756\n",
      "Epoch 3/15\n",
      "82/82 [==============================] - 70s 853ms/step - loss: 0.6439 - accuracy: 0.7053 - val_loss: 0.6670 - val_accuracy: 0.7112\n",
      "Epoch 4/15\n",
      "82/82 [==============================] - 67s 822ms/step - loss: 0.6040 - accuracy: 0.7507 - val_loss: 0.6653 - val_accuracy: 0.7362\n",
      "Epoch 5/15\n",
      "82/82 [==============================] - 64s 783ms/step - loss: 0.5856 - accuracy: 0.7560 - val_loss: 0.7133 - val_accuracy: 0.7166\n",
      "Epoch 6/15\n",
      "82/82 [==============================] - 66s 805ms/step - loss: 0.5469 - accuracy: 0.7835 - val_loss: 0.5586 - val_accuracy: 0.7861\n",
      "Epoch 7/15\n",
      "82/82 [==============================] - 67s 815ms/step - loss: 0.5362 - accuracy: 0.7960 - val_loss: 0.5802 - val_accuracy: 0.7683\n",
      "Epoch 8/15\n",
      "82/82 [==============================] - 67s 810ms/step - loss: 0.5242 - accuracy: 0.8025 - val_loss: 0.5489 - val_accuracy: 0.8111\n",
      "Epoch 9/15\n",
      "82/82 [==============================] - 67s 814ms/step - loss: 0.4984 - accuracy: 0.8098 - val_loss: 0.5110 - val_accuracy: 0.7986\n",
      "Epoch 10/15\n",
      "82/82 [==============================] - 66s 808ms/step - loss: 0.5033 - accuracy: 0.8128 - val_loss: 0.5667 - val_accuracy: 0.7790\n",
      "Epoch 11/15\n",
      "82/82 [==============================] - 68s 827ms/step - loss: 0.4704 - accuracy: 0.8326 - val_loss: 0.5124 - val_accuracy: 0.8111\n",
      "Epoch 12/15\n",
      "82/82 [==============================] - 67s 823ms/step - loss: 0.4644 - accuracy: 0.8349 - val_loss: 0.4455 - val_accuracy: 0.8467\n",
      "Epoch 13/15\n",
      "82/82 [==============================] - 67s 818ms/step - loss: 0.4472 - accuracy: 0.8418 - val_loss: 0.4616 - val_accuracy: 0.8253\n",
      "Epoch 14/15\n",
      "82/82 [==============================] - 67s 817ms/step - loss: 0.4400 - accuracy: 0.8399 - val_loss: 0.5349 - val_accuracy: 0.7968\n",
      "Epoch 15/15\n",
      "82/82 [==============================] - 70s 850ms/step - loss: 0.4427 - accuracy: 0.8311 - val_loss: 0.5351 - val_accuracy: 0.8111\n"
     ]
    }
   ],
   "source": [
    "history = model.fit(\n",
    "    train_generator,\n",
    "    validation_data = val_generator,\n",
    "    epochs = 15\n",
    ")"
   ]
  },
  {
   "cell_type": "code",
   "execution_count": 13,
   "id": "b5bed18e",
   "metadata": {},
   "outputs": [
    {
     "name": "stdout",
     "output_type": "stream",
     "text": [
      "18/18 [==============================] - 4s 223ms/step - loss: 0.5220 - accuracy: 0.7912\n",
      "Test Loss: 0.5219672918319702\n",
      "Test Accuracy: 0.7911504507064819\n"
     ]
    }
   ],
   "source": [
    "test_loss, test_accuracy = model.evaluate(test_generator)\n",
    "print(f\"Test Loss: {test_loss}\")\n",
    "print(f\"Test Accuracy: {test_accuracy}\")"
   ]
  },
  {
   "cell_type": "code",
   "execution_count": 15,
   "id": "5b9ef939",
   "metadata": {},
   "outputs": [],
   "source": [
    "model.save('../models/coin_classifier.h5')"
   ]
  }
 ],
 "metadata": {
  "kernelspec": {
   "display_name": "Python 3",
   "language": "python",
   "name": "python3"
  },
  "language_info": {
   "codemirror_mode": {
    "name": "ipython",
    "version": 3
   },
   "file_extension": ".py",
   "mimetype": "text/x-python",
   "name": "python",
   "nbconvert_exporter": "python",
   "pygments_lexer": "ipython3",
   "version": "3.10.8"
  }
 },
 "nbformat": 4,
 "nbformat_minor": 5
}
